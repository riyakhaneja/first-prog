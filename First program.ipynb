{
 "cells": [
  {
   "cell_type": "code",
   "execution_count": 1,
   "id": "c3431daa",
   "metadata": {},
   "outputs": [
    {
     "name": "stdout",
     "output_type": "stream",
     "text": [
      "Hello World\n"
     ]
    }
   ],
   "source": [
    "print(\"Hello World\")"
   ]
  },
  {
   "cell_type": "code",
   "execution_count": 2,
   "id": "a94efe78",
   "metadata": {},
   "outputs": [
    {
     "name": "stdout",
     "output_type": "stream",
     "text": [
      "Riya\n"
     ]
    }
   ],
   "source": [
    "print(\"Riya\")"
   ]
  },
  {
   "cell_type": "code",
   "execution_count": 3,
   "id": "7e9a8e12",
   "metadata": {},
   "outputs": [
    {
     "name": "stdout",
     "output_type": "stream",
     "text": [
      "45\n"
     ]
    }
   ],
   "source": [
    "print(45)"
   ]
  },
  {
   "cell_type": "code",
   "execution_count": 4,
   "id": "eb57c205",
   "metadata": {
    "scrolled": true
   },
   "outputs": [
    {
     "ename": "NameError",
     "evalue": "name 'riya' is not defined",
     "output_type": "error",
     "traceback": [
      "\u001b[1;31m---------------------------------------------------------------------------\u001b[0m",
      "\u001b[1;31mNameError\u001b[0m                                 Traceback (most recent call last)",
      "\u001b[1;32m~\\AppData\\Local\\Temp\\ipykernel_13852\\308565133.py\u001b[0m in \u001b[0;36m<module>\u001b[1;34m\u001b[0m\n\u001b[1;32m----> 1\u001b[1;33m \u001b[0mprint\u001b[0m\u001b[1;33m(\u001b[0m\u001b[0mriya\u001b[0m\u001b[1;33m)\u001b[0m\u001b[1;33m\u001b[0m\u001b[1;33m\u001b[0m\u001b[0m\n\u001b[0m",
      "\u001b[1;31mNameError\u001b[0m: name 'riya' is not defined"
     ]
    }
   ],
   "source": [
    "print(riya)        #name error"
   ]
  },
  {
   "cell_type": "markdown",
   "id": "6e22ee69",
   "metadata": {},
   "source": [
    "### Basics of python"
   ]
  },
  {
   "cell_type": "code",
   "execution_count": null,
   "id": "1eeda704",
   "metadata": {},
   "outputs": [],
   "source": [
    "go to insert and add insert cell above to add cell above, similarly insert cell below"
   ]
  },
  {
   "cell_type": "code",
   "execution_count": 5,
   "id": "75bf5f2b",
   "metadata": {},
   "outputs": [],
   "source": [
    "#For heading, 3hashtags (###) then text then go to code, select markdown and then run"
   ]
  },
  {
   "cell_type": "markdown",
   "id": "27223083",
   "metadata": {},
   "source": [
    "### Basic"
   ]
  },
  {
   "cell_type": "markdown",
   "id": "5f726879",
   "metadata": {},
   "source": [
    "shortcut:\n",
    "    \n",
    "    go to line In[] and click a to add cell above \n",
    "    go to line In[] and click b to add cell below\n",
    "    go to line In[] and click x to add cell delete \n",
    "    go to line In[] and click m to add comment and then shift+enter to make heading "
   ]
  },
  {
   "cell_type": "code",
   "execution_count": 6,
   "id": "cb6adf65",
   "metadata": {},
   "outputs": [
    {
     "data": {
      "text/plain": [
       "10"
      ]
     },
     "execution_count": 6,
     "metadata": {},
     "output_type": "execute_result"
    }
   ],
   "source": [
    "y=10\n",
    "y"
   ]
  },
  {
   "cell_type": "code",
   "execution_count": 7,
   "id": "3da09abb",
   "metadata": {},
   "outputs": [
    {
     "data": {
      "text/plain": [
       "'riya'"
      ]
     },
     "execution_count": 7,
     "metadata": {},
     "output_type": "execute_result"
    }
   ],
   "source": [
    "x='riya'\n",
    "y=10\n",
    "y\n",
    "x"
   ]
  },
  {
   "cell_type": "code",
   "execution_count": 8,
   "id": "f81411fb",
   "metadata": {},
   "outputs": [
    {
     "data": {
      "text/plain": [
       "('riya', 10)"
      ]
     },
     "execution_count": 8,
     "metadata": {},
     "output_type": "execute_result"
    }
   ],
   "source": [
    "x,y"
   ]
  },
  {
   "cell_type": "code",
   "execution_count": 9,
   "id": "8f941e2b",
   "metadata": {},
   "outputs": [
    {
     "data": {
      "text/plain": [
       "(10, 'riya')"
      ]
     },
     "execution_count": 9,
     "metadata": {},
     "output_type": "execute_result"
    }
   ],
   "source": [
    "y,x\n"
   ]
  },
  {
   "cell_type": "code",
   "execution_count": 10,
   "id": "66560192",
   "metadata": {},
   "outputs": [
    {
     "data": {
      "text/plain": [
       "'toy'"
      ]
     },
     "execution_count": 10,
     "metadata": {},
     "output_type": "execute_result"
    }
   ],
   "source": [
    "x=y=z=\"toy\"\n",
    "y"
   ]
  },
  {
   "cell_type": "code",
   "execution_count": 13,
   "id": "cc534f2c",
   "metadata": {},
   "outputs": [
    {
     "data": {
      "text/plain": [
       "15"
      ]
     },
     "execution_count": 13,
     "metadata": {},
     "output_type": "execute_result"
    }
   ],
   "source": [
    "x,y,z=20,15,23\n",
    "y"
   ]
  },
  {
   "cell_type": "markdown",
   "id": "3225a2cb",
   "metadata": {},
   "source": [
    "### Rules for naming the variables:\n",
    "    it allows a-z, A-Z, _\n",
    "    It doesnot allow any other special characters except_(underscore).\n",
    "    It doesnot allow to start with \n",
    "   Python is case sensitive\n",
    "   Space is not allowed"
   ]
  },
  {
   "cell_type": "code",
   "execution_count": 18,
   "id": "e672dfba",
   "metadata": {},
   "outputs": [
    {
     "ename": "SyntaxError",
     "evalue": "invalid syntax (1762527439.py, line 1)",
     "output_type": "error",
     "traceback": [
      "\u001b[1;36m  File \u001b[1;32m\"C:\\Users\\riyar\\AppData\\Local\\Temp\\ipykernel_13852\\1762527439.py\"\u001b[1;36m, line \u001b[1;32m1\u001b[0m\n\u001b[1;33m    riya me=[\"hey\",\"you\"]\u001b[0m\n\u001b[1;37m         ^\u001b[0m\n\u001b[1;31mSyntaxError\u001b[0m\u001b[1;31m:\u001b[0m invalid syntax\n"
     ]
    }
   ],
   "source": [
    "riya me=[\"hey\",\"you\"]\n",
    "riya me"
   ]
  },
  {
   "cell_type": "code",
   "execution_count": 16,
   "id": "93de5111",
   "metadata": {},
   "outputs": [
    {
     "ename": "SyntaxError",
     "evalue": "invalid syntax (669935236.py, line 1)",
     "output_type": "error",
     "traceback": [
      "\u001b[1;36m  File \u001b[1;32m\"C:\\Users\\riyar\\AppData\\Local\\Temp\\ipykernel_13852\\669935236.py\"\u001b[1;36m, line \u001b[1;32m1\u001b[0m\n\u001b[1;33m    2riya=[\"hey\",\"you\"]\u001b[0m\n\u001b[1;37m     ^\u001b[0m\n\u001b[1;31mSyntaxError\u001b[0m\u001b[1;31m:\u001b[0m invalid syntax\n"
     ]
    }
   ],
   "source": [
    "2riya=[\"hey\",\"you\"]\n",
    "2riya"
   ]
  },
  {
   "cell_type": "code",
   "execution_count": 17,
   "id": "d3beb03a",
   "metadata": {},
   "outputs": [
    {
     "ename": "SyntaxError",
     "evalue": "cannot assign to operator (2643992085.py, line 1)",
     "output_type": "error",
     "traceback": [
      "\u001b[1;36m  File \u001b[1;32m\"C:\\Users\\riyar\\AppData\\Local\\Temp\\ipykernel_13852\\2643992085.py\"\u001b[1;36m, line \u001b[1;32m1\u001b[0m\n\u001b[1;33m    riya+me=[\"hey\",\"you\"]\u001b[0m\n\u001b[1;37m    ^\u001b[0m\n\u001b[1;31mSyntaxError\u001b[0m\u001b[1;31m:\u001b[0m cannot assign to operator\n"
     ]
    }
   ],
   "source": [
    "riya+me=[\"hey\",\"you\"]\n",
    "riya+me"
   ]
  },
  {
   "cell_type": "markdown",
   "id": "91bb8a31",
   "metadata": {},
   "source": [
    "### type of data"
   ]
  },
  {
   "cell_type": "code",
   "execution_count": null,
   "id": "31c468e0",
   "metadata": {},
   "outputs": [],
   "source": [
    "float\n",
    "integer\n",
    "string\n",
    "boolean\n",
    "complex"
   ]
  },
  {
   "cell_type": "code",
   "execution_count": null,
   "id": "eee09933",
   "metadata": {},
   "outputs": [],
   "source": []
  }
 ],
 "metadata": {
  "kernelspec": {
   "display_name": "Python 3 (ipykernel)",
   "language": "python",
   "name": "python3"
  },
  "language_info": {
   "codemirror_mode": {
    "name": "ipython",
    "version": 3
   },
   "file_extension": ".py",
   "mimetype": "text/x-python",
   "name": "python",
   "nbconvert_exporter": "python",
   "pygments_lexer": "ipython3",
   "version": "3.9.13"
  }
 },
 "nbformat": 4,
 "nbformat_minor": 5
}
